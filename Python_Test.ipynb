{
 "cells": [
  {
   "cell_type": "markdown",
   "metadata": {},
   "source": [
    "### This test requires only Python. **No libraries allowed**"
   ]
  },
  {
   "cell_type": "code",
   "execution_count": 12,
   "metadata": {},
   "outputs": [
    {
     "name": "stdout",
     "output_type": "stream",
     "text": [
      "[1, 2, 3, 5, 7]\n"
     ]
    }
   ],
   "source": [
    "# 1. With a list mylist=[1,5,2,7,3], sort it in ascending order\n",
    "mylist = [1, 5, 2, 7, 3]\n",
    "lista_ordenada = sorted(mylist)\n",
    "print(lista_ordenada)\n"
   ]
  },
  {
   "cell_type": "code",
   "execution_count": 13,
   "metadata": {},
   "outputs": [
    {
     "name": "stdout",
     "output_type": "stream",
     "text": [
      "[1, 5, 4, 2, 7, 3]\n"
     ]
    }
   ],
   "source": [
    "# 2. With a list mylist=[1,5,2,7,3], insert the number 4 between 5 and 2\n",
    "\n",
    "mylist = [1, 5, 2, 7, 3]\n",
    "mylist.insert(2, 4) \n",
    "print(mylist)\n"
   ]
  },
  {
   "cell_type": "code",
   "execution_count": null,
   "metadata": {},
   "outputs": [
    {
     "name": "stdout",
     "output_type": "stream",
     "text": [
      "[1, 5, 2, 3]\n"
     ]
    }
   ],
   "source": [
    "# 3. With a list mylist=[1,5,2,7,3], delete the number 7\n",
    "mylist = [1, 5, 2, 7, 3]\n",
    "mylist.remove(7) \n",
    "print(mylist)\n"
   ]
  },
  {
   "cell_type": "code",
   "execution_count": 15,
   "metadata": {},
   "outputs": [
    {
     "name": "stdout",
     "output_type": "stream",
     "text": [
      "[1, 5, 2, 7]\n"
     ]
    }
   ],
   "source": [
    "# 4. With a list mylist=[1,5,2,7,3], remove the last element\n",
    "mylist = [1, 5, 2, 7, 3]\n",
    "mylist.pop()  \n",
    "print(mylist)\n"
   ]
  },
  {
   "cell_type": "code",
   "execution_count": 16,
   "metadata": {},
   "outputs": [
    {
     "name": "stdout",
     "output_type": "stream",
     "text": [
      "Index 0: 1\n",
      "Index 1: 5\n",
      "Index 2: 2\n",
      "Index 3: 7\n",
      "Index 4: 3\n"
     ]
    }
   ],
   "source": [
    "# 5. Print out all the elements and indexes of mylist=[1,5,2,7,3]\n",
    "mylist = [1, 5, 2, 7, 3]\n",
    "for index, value in enumerate(mylist):\n",
    "    print(f\"Index {index}: {value}\")\n"
   ]
  },
  {
   "cell_type": "code",
   "execution_count": 17,
   "metadata": {},
   "outputs": [
    {
     "name": "stdout",
     "output_type": "stream",
     "text": [
      "[1, 2, 3]\n"
     ]
    }
   ],
   "source": [
    "# 6. Slice the list mylist=[1,5,2,7,3] to show values only in even indexes\n",
    "mylist = [1, 5, 2, 7, 3]\n",
    "indices_pares = mylist[::2]\n",
    "print(indices_pares)\n"
   ]
  },
  {
   "cell_type": "code",
   "execution_count": 18,
   "metadata": {},
   "outputs": [
    {
     "name": "stdout",
     "output_type": "stream",
     "text": [
      "[3, 7, 2, 5, 1]\n"
     ]
    }
   ],
   "source": [
    "# 7. Slice the list mylist=[1,5,2,7,3] to reverse the list\n",
    "mylist = [1, 5, 2, 7, 3]\n",
    "list_invertida = mylist[::-1]\n",
    "print(list_invertida)\n"
   ]
  },
  {
   "cell_type": "code",
   "execution_count": 19,
   "metadata": {},
   "outputs": [
    {
     "name": "stdout",
     "output_type": "stream",
     "text": [
      "[5, 7]\n"
     ]
    }
   ],
   "source": [
    "# 8. Slice the list mylist=[1,5,2,7,3] to show values only in odd indexes\n",
    "mylist = [1, 5, 2, 7, 3]\n",
    "indice_impar = mylist[1::2]\n",
    "print(indice_impar)\n"
   ]
  },
  {
   "cell_type": "code",
   "execution_count": 20,
   "metadata": {},
   "outputs": [
    {
     "name": "stdout",
     "output_type": "stream",
     "text": [
      "[1, 2, 5, 7]\n"
     ]
    }
   ],
   "source": [
    "# 9. For the list mylist=[2,1,5,2,7,5,2] extract the unique values as a list\n",
    "mylist = [2, 1, 5, 2, 7, 5, 2]\n",
    "valores_unicos = list(set(mylist))\n",
    "print(valores_unicos)"
   ]
  },
  {
   "cell_type": "code",
   "execution_count": 21,
   "metadata": {},
   "outputs": [
    {
     "name": "stdout",
     "output_type": "stream",
     "text": [
      "3\n"
     ]
    }
   ],
   "source": [
    "# 10. For the list mylist=[[2,3],[1,2]] extract the second element\n",
    "# of the first list\n",
    "mylist = [[2, 3], [1, 2]]\n",
    "segundo_elmento_lista_1 = mylist[0][1]\n",
    "print(segundo_elmento_lista_1)\n"
   ]
  },
  {
   "cell_type": "code",
   "execution_count": 22,
   "metadata": {},
   "outputs": [
    {
     "name": "stdout",
     "output_type": "stream",
     "text": [
      "[[3, 2], [2, 1]]\n"
     ]
    }
   ],
   "source": [
    "# 11. For the list mylist=[[2,3],[1,2]] reverse the list by row\n",
    "mylist = [[2, 3], [1, 2]]\n",
    "invertir_porfila = [row[::-1] for row in mylist]\n",
    "print(invertir_porfila)\n"
   ]
  }
 ],
 "metadata": {
  "kernelspec": {
   "display_name": ".venv",
   "language": "python",
   "name": "python3"
  },
  "language_info": {
   "codemirror_mode": {
    "name": "ipython",
    "version": 3
   },
   "file_extension": ".py",
   "mimetype": "text/x-python",
   "name": "python",
   "nbconvert_exporter": "python",
   "pygments_lexer": "ipython3",
   "version": "3.12.1"
  }
 },
 "nbformat": 4,
 "nbformat_minor": 2
}
